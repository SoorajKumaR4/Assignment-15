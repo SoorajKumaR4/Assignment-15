{
 "cells": [
  {
   "cell_type": "markdown",
   "id": "06885ba2",
   "metadata": {},
   "source": [
    "1.How many seconds are in an hour? Use the interactive interpreter as a calculator and multiply the number of seconds in a minute (60) by the number of minutes in an hour (also 60).\n",
    "\n",
    "A.\n",
    "60 * 60\n",
    "3600"
   ]
  },
  {
   "cell_type": "markdown",
   "id": "fc67755f",
   "metadata": {},
   "source": [
    "2. Assign the result from the previous task (seconds in an hour) to a variable called\n",
    "seconds_per_hour.\n",
    "\n",
    "A.  seconds_per_hour=3600"
   ]
  },
  {
   "cell_type": "markdown",
   "id": "dd7888f9",
   "metadata": {},
   "source": [
    "3. How many seconds do you think there are in a day? Make use of the variables seconds per hour.\n",
    "\n",
    "A. seconds_per_hour * 24"
   ]
  },
  {
   "cell_type": "markdown",
   "id": "4b0081c6",
   "metadata": {},
   "source": [
    "4. Calculate seconds per day again, but this time save the result in a variable called seconds_per_day.\n",
    "\n",
    "A. seconds_per_day=secconds_per_hour * 24"
   ]
  },
  {
   "cell_type": "markdown",
   "id": "c6c9edae",
   "metadata": {},
   "source": [
    "5. Divide seconds_per_day by seconds_per_hour. Use floating-point (/) division.\n",
    "\n",
    "A. secconds_per_day / secconds_per_hour"
   ]
  },
  {
   "cell_type": "markdown",
   "id": "294caa83",
   "metadata": {},
   "source": [
    "6. Divide seconds_per_day by seconds_per_hour, using integer (//) division. Did this number agree\n",
    "with the floating-point value from the previous question, aside from the final .0?\n",
    "\n",
    "A. seconds_per_day // seconds_per_hour.  Yes, this number agrees with floating-point value."
   ]
  },
  {
   "cell_type": "markdown",
   "id": "8eb9c8e0",
   "metadata": {},
   "source": [
    "7. Write a generator, genPrimes, that returns the sequence of prime numbers on successive calls to its next() method: 2, 3, 5, 7, 11, ...\n",
    "    \n",
    "A.\n",
    "\n",
    "def genPrimes():\n",
    "    primes = [2]\n",
    "    yield primes[0]\n",
    "    guess = 3\n",
    "    while True:\n",
    "        if all(guess%x != 0 for x in primes):\n",
    "            primes.append(guess)        \n",
    "        if guess == primes[-1]:\n",
    "            yield primes[-1]\n",
    "        guess += 2"
   ]
  }
 ],
 "metadata": {
  "kernelspec": {
   "display_name": "Python 3 (ipykernel)",
   "language": "python",
   "name": "python3"
  },
  "language_info": {
   "codemirror_mode": {
    "name": "ipython",
    "version": 3
   },
   "file_extension": ".py",
   "mimetype": "text/x-python",
   "name": "python",
   "nbconvert_exporter": "python",
   "pygments_lexer": "ipython3",
   "version": "3.9.7"
  }
 },
 "nbformat": 4,
 "nbformat_minor": 5
}
